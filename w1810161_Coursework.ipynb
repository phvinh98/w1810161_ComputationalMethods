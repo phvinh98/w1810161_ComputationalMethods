{
 "cells": [
  {
   "cell_type": "markdown",
   "metadata": {},
   "source": [
    "# Hoang Vinh Pham - ID: w1810161"
   ]
  },
  {
   "cell_type": "code",
   "execution_count": 1,
   "metadata": {},
   "outputs": [],
   "source": [
    "import numpy as np\n",
    "import pandas as pd\n",
    "import matplotlib.pyplot as plt\n",
    "import scipy.stats as si\n",
    "import yfinance as yf\n",
    "import os"
   ]
  },
  {
   "cell_type": "markdown",
   "metadata": {},
   "source": [
    "# Stock data: NETFLIX"
   ]
  },
  {
   "cell_type": "markdown",
   "metadata": {},
   "source": [
    "DATA FOR 12 MONTHS"
   ]
  },
  {
   "cell_type": "code",
   "execution_count": 2,
   "metadata": {},
   "outputs": [
    {
     "name": "stdout",
     "output_type": "stream",
     "text": [
      "[*********************100%***********************]  1 of 1 completed\n"
     ]
    }
   ],
   "source": [
    "data = yf.download(\"NFLX\", start=\"2020-03-01\", end=\"2021-03-01\")"
   ]
  },
  {
   "cell_type": "code",
   "execution_count": 3,
   "metadata": {},
   "outputs": [
    {
     "data": {
      "text/html": [
       "<div>\n",
       "<style scoped>\n",
       "    .dataframe tbody tr th:only-of-type {\n",
       "        vertical-align: middle;\n",
       "    }\n",
       "\n",
       "    .dataframe tbody tr th {\n",
       "        vertical-align: top;\n",
       "    }\n",
       "\n",
       "    .dataframe thead th {\n",
       "        text-align: right;\n",
       "    }\n",
       "</style>\n",
       "<table border=\"1\" class=\"dataframe\">\n",
       "  <thead>\n",
       "    <tr style=\"text-align: right;\">\n",
       "      <th></th>\n",
       "      <th>Open</th>\n",
       "      <th>High</th>\n",
       "      <th>Low</th>\n",
       "      <th>Close</th>\n",
       "      <th>Adj Close</th>\n",
       "      <th>Volume</th>\n",
       "    </tr>\n",
       "    <tr>\n",
       "      <th>Date</th>\n",
       "      <th></th>\n",
       "      <th></th>\n",
       "      <th></th>\n",
       "      <th></th>\n",
       "      <th></th>\n",
       "      <th></th>\n",
       "    </tr>\n",
       "  </thead>\n",
       "  <tbody>\n",
       "    <tr>\n",
       "      <th>2020-03-02</th>\n",
       "      <td>373.109985</td>\n",
       "      <td>381.359985</td>\n",
       "      <td>364.500000</td>\n",
       "      <td>381.049988</td>\n",
       "      <td>381.049988</td>\n",
       "      <td>6997900</td>\n",
       "    </tr>\n",
       "    <tr>\n",
       "      <th>2020-03-03</th>\n",
       "      <td>381.029999</td>\n",
       "      <td>393.519989</td>\n",
       "      <td>367.399994</td>\n",
       "      <td>368.769989</td>\n",
       "      <td>368.769989</td>\n",
       "      <td>8364600</td>\n",
       "    </tr>\n",
       "    <tr>\n",
       "      <th>2020-03-04</th>\n",
       "      <td>377.769989</td>\n",
       "      <td>384.010010</td>\n",
       "      <td>370.510010</td>\n",
       "      <td>383.790009</td>\n",
       "      <td>383.790009</td>\n",
       "      <td>5487300</td>\n",
       "    </tr>\n",
       "    <tr>\n",
       "      <th>2020-03-05</th>\n",
       "      <td>381.000000</td>\n",
       "      <td>391.399994</td>\n",
       "      <td>368.640015</td>\n",
       "      <td>372.779999</td>\n",
       "      <td>372.779999</td>\n",
       "      <td>8747000</td>\n",
       "    </tr>\n",
       "    <tr>\n",
       "      <th>2020-03-06</th>\n",
       "      <td>367.700012</td>\n",
       "      <td>371.309998</td>\n",
       "      <td>356.850006</td>\n",
       "      <td>368.970001</td>\n",
       "      <td>368.970001</td>\n",
       "      <td>8147200</td>\n",
       "    </tr>\n",
       "    <tr>\n",
       "      <th>2020-03-09</th>\n",
       "      <td>343.859985</td>\n",
       "      <td>357.470001</td>\n",
       "      <td>341.720001</td>\n",
       "      <td>346.489990</td>\n",
       "      <td>346.489990</td>\n",
       "      <td>7405500</td>\n",
       "    </tr>\n",
       "    <tr>\n",
       "      <th>2020-03-10</th>\n",
       "      <td>356.429993</td>\n",
       "      <td>364.540009</td>\n",
       "      <td>347.850006</td>\n",
       "      <td>364.130005</td>\n",
       "      <td>364.130005</td>\n",
       "      <td>7604400</td>\n",
       "    </tr>\n",
       "    <tr>\n",
       "      <th>2020-03-11</th>\n",
       "      <td>358.920013</td>\n",
       "      <td>362.980011</td>\n",
       "      <td>344.790009</td>\n",
       "      <td>349.920013</td>\n",
       "      <td>349.920013</td>\n",
       "      <td>6036000</td>\n",
       "    </tr>\n",
       "    <tr>\n",
       "      <th>2020-03-12</th>\n",
       "      <td>326.500000</td>\n",
       "      <td>335.720001</td>\n",
       "      <td>307.320007</td>\n",
       "      <td>315.250000</td>\n",
       "      <td>315.250000</td>\n",
       "      <td>12071600</td>\n",
       "    </tr>\n",
       "    <tr>\n",
       "      <th>2020-03-13</th>\n",
       "      <td>330.510010</td>\n",
       "      <td>336.420013</td>\n",
       "      <td>307.390015</td>\n",
       "      <td>336.299988</td>\n",
       "      <td>336.299988</td>\n",
       "      <td>9458200</td>\n",
       "    </tr>\n",
       "  </tbody>\n",
       "</table>\n",
       "</div>"
      ],
      "text/plain": [
       "                  Open        High         Low       Close   Adj Close  \\\n",
       "Date                                                                     \n",
       "2020-03-02  373.109985  381.359985  364.500000  381.049988  381.049988   \n",
       "2020-03-03  381.029999  393.519989  367.399994  368.769989  368.769989   \n",
       "2020-03-04  377.769989  384.010010  370.510010  383.790009  383.790009   \n",
       "2020-03-05  381.000000  391.399994  368.640015  372.779999  372.779999   \n",
       "2020-03-06  367.700012  371.309998  356.850006  368.970001  368.970001   \n",
       "2020-03-09  343.859985  357.470001  341.720001  346.489990  346.489990   \n",
       "2020-03-10  356.429993  364.540009  347.850006  364.130005  364.130005   \n",
       "2020-03-11  358.920013  362.980011  344.790009  349.920013  349.920013   \n",
       "2020-03-12  326.500000  335.720001  307.320007  315.250000  315.250000   \n",
       "2020-03-13  330.510010  336.420013  307.390015  336.299988  336.299988   \n",
       "\n",
       "              Volume  \n",
       "Date                  \n",
       "2020-03-02   6997900  \n",
       "2020-03-03   8364600  \n",
       "2020-03-04   5487300  \n",
       "2020-03-05   8747000  \n",
       "2020-03-06   8147200  \n",
       "2020-03-09   7405500  \n",
       "2020-03-10   7604400  \n",
       "2020-03-11   6036000  \n",
       "2020-03-12  12071600  \n",
       "2020-03-13   9458200  "
      ]
     },
     "execution_count": 3,
     "metadata": {},
     "output_type": "execute_result"
    }
   ],
   "source": [
    "data.head(10)"
   ]
  },
  {
   "cell_type": "code",
   "execution_count": 4,
   "metadata": {},
   "outputs": [
    {
     "data": {
      "text/html": [
       "<div>\n",
       "<style scoped>\n",
       "    .dataframe tbody tr th:only-of-type {\n",
       "        vertical-align: middle;\n",
       "    }\n",
       "\n",
       "    .dataframe tbody tr th {\n",
       "        vertical-align: top;\n",
       "    }\n",
       "\n",
       "    .dataframe thead th {\n",
       "        text-align: right;\n",
       "    }\n",
       "</style>\n",
       "<table border=\"1\" class=\"dataframe\">\n",
       "  <thead>\n",
       "    <tr style=\"text-align: right;\">\n",
       "      <th></th>\n",
       "      <th>Open</th>\n",
       "      <th>High</th>\n",
       "      <th>Low</th>\n",
       "      <th>Close</th>\n",
       "      <th>Adj Close</th>\n",
       "      <th>Volume</th>\n",
       "    </tr>\n",
       "    <tr>\n",
       "      <th>Date</th>\n",
       "      <th></th>\n",
       "      <th></th>\n",
       "      <th></th>\n",
       "      <th></th>\n",
       "      <th></th>\n",
       "      <th></th>\n",
       "    </tr>\n",
       "  </thead>\n",
       "  <tbody>\n",
       "    <tr>\n",
       "      <th>2021-02-12</th>\n",
       "      <td>556.940002</td>\n",
       "      <td>561.250000</td>\n",
       "      <td>550.849976</td>\n",
       "      <td>556.520020</td>\n",
       "      <td>556.520020</td>\n",
       "      <td>2195900</td>\n",
       "    </tr>\n",
       "    <tr>\n",
       "      <th>2021-02-16</th>\n",
       "      <td>557.289978</td>\n",
       "      <td>563.630005</td>\n",
       "      <td>552.729980</td>\n",
       "      <td>557.280029</td>\n",
       "      <td>557.280029</td>\n",
       "      <td>2624100</td>\n",
       "    </tr>\n",
       "    <tr>\n",
       "      <th>2021-02-17</th>\n",
       "      <td>550.989990</td>\n",
       "      <td>555.250000</td>\n",
       "      <td>543.030029</td>\n",
       "      <td>551.340027</td>\n",
       "      <td>551.340027</td>\n",
       "      <td>2069600</td>\n",
       "    </tr>\n",
       "    <tr>\n",
       "      <th>2021-02-18</th>\n",
       "      <td>549.000000</td>\n",
       "      <td>550.000000</td>\n",
       "      <td>538.229980</td>\n",
       "      <td>548.219971</td>\n",
       "      <td>548.219971</td>\n",
       "      <td>2456200</td>\n",
       "    </tr>\n",
       "    <tr>\n",
       "      <th>2021-02-19</th>\n",
       "      <td>548.000000</td>\n",
       "      <td>548.989990</td>\n",
       "      <td>538.809998</td>\n",
       "      <td>540.219971</td>\n",
       "      <td>540.219971</td>\n",
       "      <td>2841500</td>\n",
       "    </tr>\n",
       "    <tr>\n",
       "      <th>2021-02-22</th>\n",
       "      <td>534.989990</td>\n",
       "      <td>541.789978</td>\n",
       "      <td>530.789978</td>\n",
       "      <td>533.780029</td>\n",
       "      <td>533.780029</td>\n",
       "      <td>3078600</td>\n",
       "    </tr>\n",
       "    <tr>\n",
       "      <th>2021-02-23</th>\n",
       "      <td>525.000000</td>\n",
       "      <td>548.539978</td>\n",
       "      <td>518.280029</td>\n",
       "      <td>546.150024</td>\n",
       "      <td>546.150024</td>\n",
       "      <td>4136500</td>\n",
       "    </tr>\n",
       "    <tr>\n",
       "      <th>2021-02-24</th>\n",
       "      <td>539.799988</td>\n",
       "      <td>556.849976</td>\n",
       "      <td>539.070007</td>\n",
       "      <td>553.409973</td>\n",
       "      <td>553.409973</td>\n",
       "      <td>3245000</td>\n",
       "    </tr>\n",
       "    <tr>\n",
       "      <th>2021-02-25</th>\n",
       "      <td>550.270020</td>\n",
       "      <td>556.479980</td>\n",
       "      <td>535.750000</td>\n",
       "      <td>546.700012</td>\n",
       "      <td>546.700012</td>\n",
       "      <td>4252900</td>\n",
       "    </tr>\n",
       "    <tr>\n",
       "      <th>2021-02-26</th>\n",
       "      <td>546.510010</td>\n",
       "      <td>553.090027</td>\n",
       "      <td>538.000000</td>\n",
       "      <td>538.849976</td>\n",
       "      <td>538.849976</td>\n",
       "      <td>3754600</td>\n",
       "    </tr>\n",
       "  </tbody>\n",
       "</table>\n",
       "</div>"
      ],
      "text/plain": [
       "                  Open        High         Low       Close   Adj Close  \\\n",
       "Date                                                                     \n",
       "2021-02-12  556.940002  561.250000  550.849976  556.520020  556.520020   \n",
       "2021-02-16  557.289978  563.630005  552.729980  557.280029  557.280029   \n",
       "2021-02-17  550.989990  555.250000  543.030029  551.340027  551.340027   \n",
       "2021-02-18  549.000000  550.000000  538.229980  548.219971  548.219971   \n",
       "2021-02-19  548.000000  548.989990  538.809998  540.219971  540.219971   \n",
       "2021-02-22  534.989990  541.789978  530.789978  533.780029  533.780029   \n",
       "2021-02-23  525.000000  548.539978  518.280029  546.150024  546.150024   \n",
       "2021-02-24  539.799988  556.849976  539.070007  553.409973  553.409973   \n",
       "2021-02-25  550.270020  556.479980  535.750000  546.700012  546.700012   \n",
       "2021-02-26  546.510010  553.090027  538.000000  538.849976  538.849976   \n",
       "\n",
       "             Volume  \n",
       "Date                 \n",
       "2021-02-12  2195900  \n",
       "2021-02-16  2624100  \n",
       "2021-02-17  2069600  \n",
       "2021-02-18  2456200  \n",
       "2021-02-19  2841500  \n",
       "2021-02-22  3078600  \n",
       "2021-02-23  4136500  \n",
       "2021-02-24  3245000  \n",
       "2021-02-25  4252900  \n",
       "2021-02-26  3754600  "
      ]
     },
     "execution_count": 4,
     "metadata": {},
     "output_type": "execute_result"
    }
   ],
   "source": [
    "data.tail(10)"
   ]
  },
  {
   "cell_type": "markdown",
   "metadata": {},
   "source": [
    "DATA FOR 6 MONTHS"
   ]
  },
  {
   "cell_type": "code",
   "execution_count": 5,
   "metadata": {},
   "outputs": [
    {
     "name": "stdout",
     "output_type": "stream",
     "text": [
      "[*********************100%***********************]  1 of 1 completed\n"
     ]
    }
   ],
   "source": [
    "data_6m = yf.download(\"NFLX\", start=\"2020-03-01\", end=\"2020-09-01\")"
   ]
  },
  {
   "cell_type": "markdown",
   "metadata": {},
   "source": [
    "# Statistic Summary (12 MONTHS)"
   ]
  },
  {
   "cell_type": "code",
   "execution_count": 6,
   "metadata": {},
   "outputs": [
    {
     "data": {
      "text/html": [
       "<div>\n",
       "<style scoped>\n",
       "    .dataframe tbody tr th:only-of-type {\n",
       "        vertical-align: middle;\n",
       "    }\n",
       "\n",
       "    .dataframe tbody tr th {\n",
       "        vertical-align: top;\n",
       "    }\n",
       "\n",
       "    .dataframe thead th {\n",
       "        text-align: right;\n",
       "    }\n",
       "</style>\n",
       "<table border=\"1\" class=\"dataframe\">\n",
       "  <thead>\n",
       "    <tr style=\"text-align: right;\">\n",
       "      <th></th>\n",
       "      <th>Open</th>\n",
       "      <th>High</th>\n",
       "      <th>Low</th>\n",
       "      <th>Close</th>\n",
       "      <th>Adj Close</th>\n",
       "      <th>Volume</th>\n",
       "    </tr>\n",
       "  </thead>\n",
       "  <tbody>\n",
       "    <tr>\n",
       "      <th>count</th>\n",
       "      <td>251.00</td>\n",
       "      <td>251.00</td>\n",
       "      <td>251.00</td>\n",
       "      <td>251.00</td>\n",
       "      <td>251.00</td>\n",
       "      <td>251.00</td>\n",
       "    </tr>\n",
       "    <tr>\n",
       "      <th>mean</th>\n",
       "      <td>474.87</td>\n",
       "      <td>483.26</td>\n",
       "      <td>466.42</td>\n",
       "      <td>475.16</td>\n",
       "      <td>475.16</td>\n",
       "      <td>6662995.22</td>\n",
       "    </tr>\n",
       "    <tr>\n",
       "      <th>std</th>\n",
       "      <td>59.62</td>\n",
       "      <td>58.90</td>\n",
       "      <td>59.24</td>\n",
       "      <td>59.05</td>\n",
       "      <td>59.05</td>\n",
       "      <td>4173867.37</td>\n",
       "    </tr>\n",
       "    <tr>\n",
       "      <th>min</th>\n",
       "      <td>302.40</td>\n",
       "      <td>322.90</td>\n",
       "      <td>290.25</td>\n",
       "      <td>298.84</td>\n",
       "      <td>298.84</td>\n",
       "      <td>1144000.00</td>\n",
       "    </tr>\n",
       "    <tr>\n",
       "      <th>25%</th>\n",
       "      <td>436.16</td>\n",
       "      <td>444.33</td>\n",
       "      <td>430.40</td>\n",
       "      <td>435.84</td>\n",
       "      <td>435.84</td>\n",
       "      <td>4156950.00</td>\n",
       "    </tr>\n",
       "    <tr>\n",
       "      <th>50%</th>\n",
       "      <td>488.50</td>\n",
       "      <td>494.92</td>\n",
       "      <td>481.27</td>\n",
       "      <td>488.24</td>\n",
       "      <td>488.24</td>\n",
       "      <td>5602500.00</td>\n",
       "    </tr>\n",
       "    <tr>\n",
       "      <th>75%</th>\n",
       "      <td>516.76</td>\n",
       "      <td>525.10</td>\n",
       "      <td>504.43</td>\n",
       "      <td>519.45</td>\n",
       "      <td>519.45</td>\n",
       "      <td>7823450.00</td>\n",
       "    </tr>\n",
       "    <tr>\n",
       "      <th>max</th>\n",
       "      <td>582.45</td>\n",
       "      <td>593.29</td>\n",
       "      <td>570.40</td>\n",
       "      <td>586.34</td>\n",
       "      <td>586.34</td>\n",
       "      <td>32637500.00</td>\n",
       "    </tr>\n",
       "  </tbody>\n",
       "</table>\n",
       "</div>"
      ],
      "text/plain": [
       "         Open    High     Low   Close  Adj Close       Volume\n",
       "count  251.00  251.00  251.00  251.00     251.00       251.00\n",
       "mean   474.87  483.26  466.42  475.16     475.16   6662995.22\n",
       "std     59.62   58.90   59.24   59.05      59.05   4173867.37\n",
       "min    302.40  322.90  290.25  298.84     298.84   1144000.00\n",
       "25%    436.16  444.33  430.40  435.84     435.84   4156950.00\n",
       "50%    488.50  494.92  481.27  488.24     488.24   5602500.00\n",
       "75%    516.76  525.10  504.43  519.45     519.45   7823450.00\n",
       "max    582.45  593.29  570.40  586.34     586.34  32637500.00"
      ]
     },
     "execution_count": 6,
     "metadata": {},
     "output_type": "execute_result"
    }
   ],
   "source": [
    "data.describe().round(2)"
   ]
  },
  {
   "cell_type": "markdown",
   "metadata": {},
   "source": [
    "# Statistic Summary (6 MONTHS)"
   ]
  },
  {
   "cell_type": "code",
   "execution_count": 7,
   "metadata": {},
   "outputs": [
    {
     "data": {
      "text/html": [
       "<div>\n",
       "<style scoped>\n",
       "    .dataframe tbody tr th:only-of-type {\n",
       "        vertical-align: middle;\n",
       "    }\n",
       "\n",
       "    .dataframe tbody tr th {\n",
       "        vertical-align: top;\n",
       "    }\n",
       "\n",
       "    .dataframe thead th {\n",
       "        text-align: right;\n",
       "    }\n",
       "</style>\n",
       "<table border=\"1\" class=\"dataframe\">\n",
       "  <thead>\n",
       "    <tr style=\"text-align: right;\">\n",
       "      <th></th>\n",
       "      <th>Open</th>\n",
       "      <th>High</th>\n",
       "      <th>Low</th>\n",
       "      <th>Close</th>\n",
       "      <th>Adj Close</th>\n",
       "      <th>Volume</th>\n",
       "    </tr>\n",
       "  </thead>\n",
       "  <tbody>\n",
       "    <tr>\n",
       "      <th>count</th>\n",
       "      <td>128.00</td>\n",
       "      <td>128.00</td>\n",
       "      <td>128.00</td>\n",
       "      <td>128.00</td>\n",
       "      <td>128.00</td>\n",
       "      <td>128.00</td>\n",
       "    </tr>\n",
       "    <tr>\n",
       "      <th>mean</th>\n",
       "      <td>436.21</td>\n",
       "      <td>445.18</td>\n",
       "      <td>428.00</td>\n",
       "      <td>437.29</td>\n",
       "      <td>437.29</td>\n",
       "      <td>8031260.16</td>\n",
       "    </tr>\n",
       "    <tr>\n",
       "      <th>std</th>\n",
       "      <td>56.40</td>\n",
       "      <td>55.57</td>\n",
       "      <td>56.29</td>\n",
       "      <td>56.28</td>\n",
       "      <td>56.28</td>\n",
       "      <td>4343549.80</td>\n",
       "    </tr>\n",
       "    <tr>\n",
       "      <th>min</th>\n",
       "      <td>302.40</td>\n",
       "      <td>322.90</td>\n",
       "      <td>290.25</td>\n",
       "      <td>298.84</td>\n",
       "      <td>298.84</td>\n",
       "      <td>2423500.00</td>\n",
       "    </tr>\n",
       "    <tr>\n",
       "      <th>25%</th>\n",
       "      <td>405.35</td>\n",
       "      <td>419.47</td>\n",
       "      <td>397.11</td>\n",
       "      <td>413.05</td>\n",
       "      <td>413.05</td>\n",
       "      <td>5436475.00</td>\n",
       "    </tr>\n",
       "    <tr>\n",
       "      <th>50%</th>\n",
       "      <td>436.61</td>\n",
       "      <td>444.69</td>\n",
       "      <td>430.55</td>\n",
       "      <td>436.19</td>\n",
       "      <td>436.19</td>\n",
       "      <td>6856800.00</td>\n",
       "    </tr>\n",
       "    <tr>\n",
       "      <th>75%</th>\n",
       "      <td>484.56</td>\n",
       "      <td>492.98</td>\n",
       "      <td>479.90</td>\n",
       "      <td>484.81</td>\n",
       "      <td>484.81</td>\n",
       "      <td>9119775.00</td>\n",
       "    </tr>\n",
       "    <tr>\n",
       "      <th>max</th>\n",
       "      <td>567.98</td>\n",
       "      <td>575.37</td>\n",
       "      <td>522.00</td>\n",
       "      <td>548.73</td>\n",
       "      <td>548.73</td>\n",
       "      <td>24991400.00</td>\n",
       "    </tr>\n",
       "  </tbody>\n",
       "</table>\n",
       "</div>"
      ],
      "text/plain": [
       "         Open    High     Low   Close  Adj Close       Volume\n",
       "count  128.00  128.00  128.00  128.00     128.00       128.00\n",
       "mean   436.21  445.18  428.00  437.29     437.29   8031260.16\n",
       "std     56.40   55.57   56.29   56.28      56.28   4343549.80\n",
       "min    302.40  322.90  290.25  298.84     298.84   2423500.00\n",
       "25%    405.35  419.47  397.11  413.05     413.05   5436475.00\n",
       "50%    436.61  444.69  430.55  436.19     436.19   6856800.00\n",
       "75%    484.56  492.98  479.90  484.81     484.81   9119775.00\n",
       "max    567.98  575.37  522.00  548.73     548.73  24991400.00"
      ]
     },
     "execution_count": 7,
     "metadata": {},
     "output_type": "execute_result"
    }
   ],
   "source": [
    "data_6m.describe().round(2)"
   ]
  },
  {
   "cell_type": "markdown",
   "metadata": {},
   "source": [
    "# Adjusted Close Price movement diagram"
   ]
  },
  {
   "cell_type": "code",
   "execution_count": 8,
   "metadata": {},
   "outputs": [],
   "source": [
    "ADJ =  data['Adj Close']"
   ]
  },
  {
   "cell_type": "code",
   "execution_count": 9,
   "metadata": {},
   "outputs": [
    {
     "data": {
      "text/plain": [
       "Text(0.5, 1.0, 'Adjusted Close Price')"
      ]
     },
     "execution_count": 9,
     "metadata": {},
     "output_type": "execute_result"
    },
    {
     "data": {
      "image/png": "[encoded data removed]",
      "text/plain": [
       "<Figure size 720x864 with 1 Axes>"
      ]
     },
     "metadata": {
      "needs_background": "light"
     },
     "output_type": "display_data"
    }
   ],
   "source": [
    "ADJ.plot(figsize=(10, 12), subplots=True)\n",
    "plt.ylabel('Price ($)')\n",
    "plt.title('Adjusted Close Price')"
   ]
  },
  {
   "cell_type": "markdown",
   "metadata": {},
   "source": [
    "# Close Price movement diagram"
   ]
  },
  {
   "cell_type": "code",
   "execution_count": 10,
   "metadata": {},
   "outputs": [],
   "source": [
    "CLS = data['Close']"
   ]
  },
  {
   "cell_type": "code",
   "execution_count": 11,
   "metadata": {},
   "outputs": [
    {
     "data": {
      "text/plain": [
       "Text(0.5, 1.0, 'Close Price')"
      ]
     },
     "execution_count": 11,
     "metadata": {},
     "output_type": "execute_result"
    },
    {
     "data": {
      "image/png": "[encoded data removed]",
      "text/plain": [
       "<Figure size 720x864 with 1 Axes>"
      ]
     },
     "metadata": {
      "needs_background": "light"
     },
     "output_type": "display_data"
    }
   ],
   "source": [
    "CLS.plot(figsize=(10, 12), subplots=True)\n",
    "plt.ylabel('Price ($)')\n",
    "plt.title('Close Price')"
   ]
  },
  {
   "cell_type": "markdown",
   "metadata": {},
   "source": [
    "# Annualised volatility (12M)"
   ]
  },
  {
   "cell_type": "code",
   "execution_count": 12,
   "metadata": {},
   "outputs": [],
   "source": [
    "log_return = np.log(data['Adj Close'] / data['Adj Close'].shift(1))"
   ]
  },
  {
   "cell_type": "code",
   "execution_count": 13,
   "metadata": {},
   "outputs": [
    {
     "name": "stdout",
     "output_type": "stream",
     "text": [
      "The annualised volatility is 48.43 %\n"
     ]
    }
   ],
   "source": [
    "vol = np.sqrt(len(data)) * log_return.std()\n",
    "print('The annualised volatility is', round(vol*100,2), '%')"
   ]
  },
  {
   "cell_type": "markdown",
   "metadata": {},
   "source": [
    "# Annualised volatility (6M)"
   ]
  },
  {
   "cell_type": "code",
   "execution_count": 14,
   "metadata": {},
   "outputs": [],
   "source": [
    "log_return_6m = np.log(data_6m['Adj Close'] / data_6m['Adj Close'].shift(1))"
   ]
  },
  {
   "cell_type": "code",
   "execution_count": 15,
   "metadata": {},
   "outputs": [
    {
     "name": "stdout",
     "output_type": "stream",
     "text": [
      "The annualised volatility is 37.15 %\n"
     ]
    }
   ],
   "source": [
    "vol = np.sqrt(len(data_6m)) * log_return_6m.std()\n",
    "print('The annualised volatility is', round(vol*100,2), '%')"
   ]
  },
  {
   "cell_type": "markdown",
   "metadata": {},
   "source": [
    "# BINOMIAL TREE PRICING MODEL"
   ]
  },
  {
   "cell_type": "code",
   "execution_count": 16,
   "metadata": {},
   "outputs": [],
   "source": [
    "S0 = 535.0         # stock spot price\n",
    "K = 580.0          # strike price\n",
    "N = 3              # number of time steps\n",
    "sigma = 0.3715     # volatility\n",
    "r = 0.017          # risk free rate\n",
    "T = 1.0            # time to maturity"
   ]
  },
  {
   "cell_type": "code",
   "execution_count": 17,
   "metadata": {},
   "outputs": [],
   "source": [
    "dT = float(T) / N                   # delta T\n",
    "u = np.exp(sigma * np.sqrt(dT))     # up factor \n",
    "d = 1.0 / u                         # down factor\n",
    "p = (np.exp(r*dT) - d) / (u - d)    # risk free up probability\n",
    "q = 1.0 - p                         # risk free down probability"
   ]
  },
  {
   "cell_type": "code",
   "execution_count": 18,
   "metadata": {},
   "outputs": [
    {
     "data": {
      "text/plain": [
       "1.239224307001928"
      ]
     },
     "execution_count": 18,
     "metadata": {},
     "output_type": "execute_result"
    }
   ],
   "source": [
    "u"
   ]
  },
  {
   "cell_type": "code",
   "execution_count": 19,
   "metadata": {},
   "outputs": [
    {
     "data": {
      "text/plain": [
       "0.8069564116437592"
      ]
     },
     "execution_count": 19,
     "metadata": {},
     "output_type": "execute_result"
    }
   ],
   "source": [
    "d"
   ]
  },
  {
   "cell_type": "code",
   "execution_count": 20,
   "metadata": {},
   "outputs": [
    {
     "data": {
      "text/plain": [
       "0.45972958686643856"
      ]
     },
     "execution_count": 20,
     "metadata": {},
     "output_type": "execute_result"
    }
   ],
   "source": [
    "p"
   ]
  },
  {
   "cell_type": "code",
   "execution_count": 21,
   "metadata": {},
   "outputs": [],
   "source": [
    "# PRICE TREE\n",
    "price_tree = np.zeros((N + 1, N + 1))\n",
    "price_tree[0, 0] = S0\n",
    "z = 1\n",
    "for t in range(1, N + 1):\n",
    "    for i in range(z):\n",
    "        price_tree[i, t] = price_tree[i, t-1] * u\n",
    "        price_tree[i+1, t] = price_tree[i, t-1] * d\n",
    "    z += 1     "
   ]
  },
  {
   "cell_type": "code",
   "execution_count": 22,
   "metadata": {},
   "outputs": [
    {
     "data": {
      "text/plain": [
       "array([[ 535.        ,  662.98500425,  821.58713244, 1018.13074484],\n",
       "       [   0.        ,  431.72168023,  535.        ,  662.98500425],\n",
       "       [   0.        ,    0.        ,  348.38057791,  431.72168023],\n",
       "       [   0.        ,    0.        ,    0.        ,  281.12794103]])"
      ]
     },
     "execution_count": 22,
     "metadata": {},
     "output_type": "execute_result"
    }
   ],
   "source": [
    "price_tree"
   ]
  },
  {
   "cell_type": "code",
   "execution_count": 23,
   "metadata": {},
   "outputs": [
    {
     "data": {
      "text/plain": [
       "array([[0., 0., 0., 0.],\n",
       "       [0., 0., 0., 0.],\n",
       "       [0., 0., 0., 1.],\n",
       "       [0., 0., 0., 1.]])"
      ]
     },
     "execution_count": 23,
     "metadata": {},
     "output_type": "execute_result"
    }
   ],
   "source": [
    "# OPTION VALUE AT EACH FINAL NODE\n",
    "S_T = price_tree[:,-1]\n",
    "V = np.zeros((N + 1, N + 1))\n",
    "V[:,-1] = np.heaviside(K - S_T, 1.0)\n",
    "V"
   ]
  },
  {
   "cell_type": "code",
   "execution_count": 24,
   "metadata": {},
   "outputs": [
    {
     "data": {
      "text/plain": [
       "array([[0.55083083, 0.28860268, 0.        , 0.        ],\n",
       "       [0.        , 0.77976115, 0.53721754, 0.        ],\n",
       "       [0.        , 0.        , 0.99434936, 1.        ],\n",
       "       [0.        , 0.        , 0.        , 1.        ]])"
      ]
     },
     "execution_count": 24,
     "metadata": {},
     "output_type": "execute_result"
    }
   ],
   "source": [
    "# OPTION VALUE AT EARLIERS NODE\n",
    "for j in range(N-1, -1, -1):\n",
    "    for i in range(j+1):\n",
    "        V[i,j] = np.exp(-r*dT) * (p * V[i,j + 1] + q * V[i + 1,j + 1])\n",
    "V"
   ]
  },
  {
   "cell_type": "code",
   "execution_count": 25,
   "metadata": {},
   "outputs": [
    {
     "name": "stdout",
     "output_type": "stream",
     "text": [
      "Value of binary put option  0.5508308339503696\n"
     ]
    }
   ],
   "source": [
    "print('Value of binary put option ', str( V[0,0]))"
   ]
  },
  {
   "cell_type": "markdown",
   "metadata": {},
   "source": [
    "# BLACK-SCHOLES PRICING MODEL"
   ]
  },
  {
   "cell_type": "code",
   "execution_count": 26,
   "metadata": {},
   "outputs": [],
   "source": [
    "def put_option_bs(S, K, T, r, vol, payoff):\n",
    "    \n",
    "    #S: spot price\n",
    "    #K: strike price\n",
    "    #T: time to maturity\n",
    "    #r: risk free rate\n",
    "    #vol: volatility of underlying asset\n",
    "    #payoff: fixed cash value\n",
    "    \n",
    "    d1 = (np.log(S / K) + (r + 0.5 * vol ** 2) * T) / (vol * np.sqrt(T))\n",
    "    d2 = (np.log(S / K) + (r - 0.5 * vol ** 2) * T) / (vol * np.sqrt(T))\n",
    "    \n",
    "#CASH OR NOTHING BINARY OPTION VALUE \n",
    "    option_value = payoff * np.exp(-r * T) * si.norm.cdf(-d2, 0.0, 1.0)\n",
    "    \n",
    "    return option_value"
   ]
  },
  {
   "cell_type": "code",
   "execution_count": 27,
   "metadata": {},
   "outputs": [
    {
     "data": {
      "text/plain": [
       "0.6288158929187602"
      ]
     },
     "execution_count": 27,
     "metadata": {},
     "output_type": "execute_result"
    }
   ],
   "source": [
    "put_option_bs(535, 580, 1, 0.017, 0.3715, 1.0)"
   ]
  },
  {
   "cell_type": "markdown",
   "metadata": {},
   "source": [
    "# GREEKS OF BINARY PUT OPTION"
   ]
  },
  {
   "cell_type": "markdown",
   "metadata": {},
   "source": [
    "     #S: spot price\n",
    "     #K: strike price\n",
    "     #T: time to maturity\n",
    "     #r: risk free rate\n",
    "     #vol: volatility of underlying asset"
   ]
  },
  {
   "cell_type": "markdown",
   "metadata": {},
   "source": [
    "# Delta"
   ]
  },
  {
   "cell_type": "markdown",
   "metadata": {},
   "source": [
    "Delta, ∆, measures the rate of change of the theoretical option value with respect to changes in the underlying asset's price. Delta is the first derivative of the value V of the option with respect to the underlying instrument's price S."
   ]
  },
  {
   "cell_type": "code",
   "execution_count": 28,
   "metadata": {},
   "outputs": [],
   "source": [
    "def delta(S, K, T, r, vol):\n",
    "    \n",
    "    d1 = (np.log(S / K) + (r + 0.5 * vol ** 2) * T) / (vol * np.sqrt(T))\n",
    "    d2 = (np.log(S / K) + (r - 0.5 * vol ** 2) * T) / (vol * np.sqrt(T))\n",
    "    \n",
    "    delta = (np.exp(-r * T)) * si.norm.pdf(d2, 0.0, 1.0) / (S * vol * np.sqrt(T))\n",
    "    return delta"
   ]
  },
  {
   "cell_type": "code",
   "execution_count": 29,
   "metadata": {},
   "outputs": [
    {
     "data": {
      "text/plain": [
       "0.0018513135250825324"
      ]
     },
     "execution_count": 29,
     "metadata": {},
     "output_type": "execute_result"
    }
   ],
   "source": [
    "delta(535, 580, 1, 0.017, 0.3715)"
   ]
  },
  {
   "cell_type": "code",
   "execution_count": 30,
   "metadata": {},
   "outputs": [
    {
     "name": "stdout",
     "output_type": "stream",
     "text": [
      "The value of Delta is 0.0019 . If the stock price increase 1 dollar, then the value of the option will increase $ 0.0019 .\n"
     ]
    }
   ],
   "source": [
    "d = delta(535, 580, 1, 0.017, 0.3715)\n",
    "print('The value of Delta is', d.round(4),'.','If the stock price increase 1 dollar, then the value of the option will increase $', d.round(4), '.')"
   ]
  },
  {
   "cell_type": "code",
   "execution_count": 31,
   "metadata": {},
   "outputs": [],
   "source": [
    "S = np.linspace(400,700,11)\n",
    "Delta_Put = np.zeros((len(S),1))\n",
    "for i in range(len(S)):   \n",
    "    Delta_Put [i] = delta(S[i], 580, 1, 0.017, 0.3715)"
   ]
  },
  {
   "cell_type": "code",
   "execution_count": 32,
   "metadata": {},
   "outputs": [
    {
     "data": {
      "text/plain": [
       "<matplotlib.legend.Legend at 0x7ff0400571c0>"
      ]
     },
     "execution_count": 32,
     "metadata": {},
     "output_type": "execute_result"
    },
    {
     "data": {
      "image/png": "[encoded data removed]",
      "text/plain": [
       "<Figure size 432x288 with 1 Axes>"
      ]
     },
     "metadata": {
      "needs_background": "light"
     },
     "output_type": "display_data"
    }
   ],
   "source": [
    "fig = plt.figure()\n",
    "plt.plot(S, Delta_Put, '-')\n",
    "plt.grid()\n",
    "plt.xlabel('Stock Price')\n",
    "plt.ylabel('Delta')\n",
    "plt.title('Delta')\n",
    "plt.legend(['Delta for Put'])"
   ]
  },
  {
   "cell_type": "markdown",
   "metadata": {},
   "source": [
    "# Gamma"
   ]
  },
  {
   "cell_type": "markdown",
   "metadata": {},
   "source": [
    "Gamma, Γ, measures the rate of change in the delta with respect to changes in the underlying price. Gamma is the second derivative of the value function with respect to the underlying price."
   ]
  },
  {
   "cell_type": "code",
   "execution_count": 33,
   "metadata": {},
   "outputs": [],
   "source": [
    "def gamma(S, K, T, r, vol):\n",
    "    \n",
    "    d1 = (np.log(S / K) + (r + 0.5 * vol ** 2) * T) / (vol * np.sqrt(T))\n",
    "    d2 = (np.log(S / K) + (r - 0.5 * vol ** 2) * T) / (vol * np.sqrt(T))\n",
    "    \n",
    "    gamma = np.exp(-r * T) * si.norm.pdf(d2, 0.0, 1.0) * d1 / ((S**2) * (vol**2) * np.sqrt(T))\n",
    "    return gamma"
   ]
  },
  {
   "cell_type": "code",
   "execution_count": 34,
   "metadata": {},
   "outputs": [
    {
     "data": {
      "text/plain": [
       "1.3150275980396662e-07"
      ]
     },
     "execution_count": 34,
     "metadata": {},
     "output_type": "execute_result"
    }
   ],
   "source": [
    "gamma(535, 580, 1, 0.017, 0.3715)"
   ]
  },
  {
   "cell_type": "code",
   "execution_count": 35,
   "metadata": {},
   "outputs": [
    {
     "name": "stdout",
     "output_type": "stream",
     "text": [
      "The value of Gamma is 1.315e-07 . If the stock price increase 1 dollar, then the value of Delta will increase $ 1.315e-07 .\n"
     ]
    }
   ],
   "source": [
    "g = gamma(535, 580, 1, 0.017, 0.3715)\n",
    "print('The value of Gamma is', g.round(10),'.','If the stock price increase 1 dollar, then the value of Delta will increase $', g.round(10), '.')"
   ]
  },
  {
   "cell_type": "code",
   "execution_count": 36,
   "metadata": {},
   "outputs": [],
   "source": [
    "S = np.linspace(400,700,11)\n",
    "Gamma_Put = np.zeros((len(S),1))\n",
    "for i in range(len(S)):\n",
    "    Gamma_Put [i] = gamma(S[i], 580, 1, 0.017, 0.3715)"
   ]
  },
  {
   "cell_type": "code",
   "execution_count": 37,
   "metadata": {},
   "outputs": [
    {
     "data": {
      "text/plain": [
       "<matplotlib.legend.Legend at 0x7ff070182ee0>"
      ]
     },
     "execution_count": 37,
     "metadata": {},
     "output_type": "execute_result"
    },
    {
     "data": {
      "image/png": "[encoded data removed]",
      "text/plain": [
       "<Figure size 432x288 with 1 Axes>"
      ]
     },
     "metadata": {
      "needs_background": "light"
     },
     "output_type": "display_data"
    }
   ],
   "source": [
    "fig = plt.figure()\n",
    "plt.plot(S, Gamma_Put, '-')\n",
    "plt.grid()\n",
    "plt.xlabel('Stock Price')\n",
    "plt.ylabel('Gamma')\n",
    "plt.title('Gamma')\n",
    "plt.legend(['Gamma for Put'])"
   ]
  },
  {
   "cell_type": "markdown",
   "metadata": {},
   "source": [
    "# Vega"
   ]
  },
  {
   "cell_type": "markdown",
   "metadata": {},
   "source": [
    "Vega measures sensitivity to volatility. Vega is the derivative of the option value with respect to the volatility of the underlying asset."
   ]
  },
  {
   "cell_type": "code",
   "execution_count": 38,
   "metadata": {},
   "outputs": [],
   "source": [
    "def vega(S, K, T, r, vol):\n",
    "    \n",
    "    d1 = (np.log(S / K) + (r + 0.5 * vol ** 2) * T) / (vol * np.sqrt(T))\n",
    "    d2 = (np.log(S / K) + (r - 0.5 * vol ** 2) * T) / (vol * np.sqrt(T))\n",
    "    \n",
    "    vega = np.exp(-r * T) * d1 * si.norm.pdf(d2, 0.0, 1.0) / vol\n",
    "    \n",
    "    return vega"
   ]
  },
  {
   "cell_type": "code",
   "execution_count": 39,
   "metadata": {},
   "outputs": [
    {
     "data": {
      "text/plain": [
       "0.013983028713346765"
      ]
     },
     "execution_count": 39,
     "metadata": {},
     "output_type": "execute_result"
    }
   ],
   "source": [
    "vega(535, 580, 1, 0.017, 0.3715)"
   ]
  },
  {
   "cell_type": "code",
   "execution_count": 40,
   "metadata": {},
   "outputs": [
    {
     "name": "stdout",
     "output_type": "stream",
     "text": [
      "The value of Vega is 0.014 . If the volatility increases 1%, then the value of the option will increase $ 0.00014000000000000001 .\n"
     ]
    }
   ],
   "source": [
    "v = vega(535, 580, 1, 0.017, 0.3715)\n",
    "print('The value of Vega is', v.round(4),'.','If the volatility increases 1%, then the value of the option will increase $', v.round(4)*0.01, '.')"
   ]
  },
  {
   "cell_type": "code",
   "execution_count": 41,
   "metadata": {},
   "outputs": [],
   "source": [
    "vol = np.linspace(0.15,0.55,13)\n",
    "Vega = np.zeros((len(vol),1))\n",
    "for i in range(len(vol)):\n",
    "    Vega [i] = vega(535, 580, 1, 0.017, vol[i])"
   ]
  },
  {
   "cell_type": "code",
   "execution_count": 42,
   "metadata": {},
   "outputs": [
    {
     "data": {
      "text/plain": [
       "<matplotlib.legend.Legend at 0x7ff0632c6790>"
      ]
     },
     "execution_count": 42,
     "metadata": {},
     "output_type": "execute_result"
    },
    {
     "data": {
      "image/png": "[encoded data removed]",
      "text/plain": [
       "<Figure size 432x288 with 1 Axes>"
      ]
     },
     "metadata": {
      "needs_background": "light"
     },
     "output_type": "display_data"
    }
   ],
   "source": [
    "fig = plt.figure()\n",
    "plt.plot(vol, Vega, '-')\n",
    "plt.grid()\n",
    "plt.xlabel('Volatility')\n",
    "plt.ylabel('Vega')\n",
    "plt.title('Vega')\n",
    "plt.legend(['Vega for Put'])"
   ]
  },
  {
   "cell_type": "markdown",
   "metadata": {},
   "source": [
    "# Rho"
   ]
  },
  {
   "cell_type": "markdown",
   "metadata": {},
   "source": [
    "Rho, 𝜌, measures sensitivity to the interest rate: it is the derivative of the option value with respect to the risk free interest rate (for the relevant outstanding term)"
   ]
  },
  {
   "cell_type": "code",
   "execution_count": 43,
   "metadata": {},
   "outputs": [],
   "source": [
    "def rho(S, K, T, r, vol):\n",
    "    \n",
    "    d1 = (np.log(S / K) + (r + 0.5 * vol ** 2) * T) / (vol * np.sqrt(T))\n",
    "    d2 = (np.log(S / K) + (r - 0.5 * vol ** 2) * T) / (vol * np.sqrt(T))\n",
    "    \n",
    "    rho = np.exp(-r * T) * (((-np.sqrt(T) * si.norm.pdf(d2, 0.0, 1.0)) / vol) - (T * si.norm.cdf(-d2, 0.0, 1.0)))\n",
    "    return rho"
   ]
  },
  {
   "cell_type": "code",
   "execution_count": 44,
   "metadata": {},
   "outputs": [
    {
     "data": {
      "text/plain": [
       "-1.619268628837915"
      ]
     },
     "execution_count": 44,
     "metadata": {},
     "output_type": "execute_result"
    }
   ],
   "source": [
    "rho(535, 580, 1, 0.017, 0.3715)"
   ]
  },
  {
   "cell_type": "code",
   "execution_count": 45,
   "metadata": {},
   "outputs": [
    {
     "name": "stdout",
     "output_type": "stream",
     "text": [
      "The value of Rho is -1.6193 . If the interest rate increases 1%, then the value of the option will decrease $ -0.016193 .\n"
     ]
    }
   ],
   "source": [
    "r = rho(535, 580, 1, 0.017, 0.3715)\n",
    "print('The value of Rho is', r.round(4),'.','If the interest rate increases 1%, then the value of the option will decrease $', r.round(4)*0.01, '.')"
   ]
  },
  {
   "cell_type": "code",
   "execution_count": 46,
   "metadata": {},
   "outputs": [],
   "source": [
    "r = np.linspace(0,0.1,11)\n",
    "Rho_Put = np.zeros((len(r),1))\n",
    "for i in range(len(r)):    \n",
    "    Rho_Put [i] = rho(535, 580, 1, r[i], 0.3715)"
   ]
  },
  {
   "cell_type": "code",
   "execution_count": 47,
   "metadata": {},
   "outputs": [
    {
     "data": {
      "text/plain": [
       "<matplotlib.legend.Legend at 0x7ff0632c66a0>"
      ]
     },
     "execution_count": 47,
     "metadata": {},
     "output_type": "execute_result"
    },
    {
     "data": {
      "image/png": "[encoded data removed]",
      "text/plain": [
       "<Figure size 432x288 with 1 Axes>"
      ]
     },
     "metadata": {
      "needs_background": "light"
     },
     "output_type": "display_data"
    }
   ],
   "source": [
    "fig = plt.figure()\n",
    "plt.plot(r, Rho_Put, '-')\n",
    "plt.grid()\n",
    "plt.xlabel('Interest Rate')\n",
    "plt.ylabel('Rho')\n",
    "plt.title('Rho')\n",
    "plt.legend(['Rho for Put'])"
   ]
  },
  {
   "cell_type": "markdown",
   "metadata": {},
   "source": [
    "# Theta"
   ]
  },
  {
   "cell_type": "markdown",
   "metadata": {},
   "source": [
    "Theta, 𝜃, measures the sensitivity of the value of the derivative to the passage of time (see Option time value): the \"time decay\"."
   ]
  },
  {
   "cell_type": "code",
   "execution_count": 48,
   "metadata": {},
   "outputs": [],
   "source": [
    "def theta(S, K, T, r, vol):\n",
    "    \n",
    "    d1 = (np.log(S / K) + (r + 0.5 * vol ** 2) * T) / (vol * np.sqrt(T))\n",
    "    d2 = (np.log(S / K) + (r - 0.5 * vol ** 2) * T) / (vol * np.sqrt(T))\n",
    "    \n",
    "    theta = np.exp(-r * T) * (r * si.norm.cdf(-d2, 0.0, 1.0) - si.norm.pdf(d2, 0.0, 1.0) * ((0.5 * d1 / T) - (r / (vol * np.sqrt(T))))) \n",
    "    return theta"
   ]
  },
  {
   "cell_type": "code",
   "execution_count": 49,
   "metadata": {},
   "outputs": [
    {
     "data": {
      "text/plain": [
       "0.024930219106740394"
      ]
     },
     "execution_count": 49,
     "metadata": {},
     "output_type": "execute_result"
    }
   ],
   "source": [
    "theta(535, 580, 1, 0.017, 0.3715)"
   ]
  },
  {
   "cell_type": "code",
   "execution_count": 50,
   "metadata": {},
   "outputs": [
    {
     "name": "stdout",
     "output_type": "stream",
     "text": [
      "The value of Theta is 0.0249 . If the time to maturity increases 1 day, then the value of the option will decrease $ 0.0249 .\n"
     ]
    }
   ],
   "source": [
    "t = theta(535, 580, 1, 0.017, 0.3715)\n",
    "print('The value of Theta is', t.round(4),'.','If the time to maturity increases 1 day, then the value of the option will decrease $', t.round(4), '.')"
   ]
  },
  {
   "cell_type": "code",
   "execution_count": 51,
   "metadata": {},
   "outputs": [],
   "source": [
    "T = np.linspace(0.25,3,12)\n",
    "Theta_Put = np.zeros((len(T),1))\n",
    "for i in range(len(r)):\n",
    "    Theta_Put [i] = theta(535, 580, T[i], 0.017, 0.3715)"
   ]
  },
  {
   "cell_type": "code",
   "execution_count": 52,
   "metadata": {
    "scrolled": true
   },
   "outputs": [
    {
     "data": {
      "text/plain": [
       "<matplotlib.legend.Legend at 0x7ff0631af880>"
      ]
     },
     "execution_count": 52,
     "metadata": {},
     "output_type": "execute_result"
    },
    {
     "data": {
      "image/png": "[encoded data removed]",
      "text/plain": [
       "<Figure size 432x288 with 1 Axes>"
      ]
     },
     "metadata": {
      "needs_background": "light"
     },
     "output_type": "display_data"
    }
   ],
   "source": [
    "fig = plt.figure()\n",
    "plt.plot(T, Theta_Put, '-')\n",
    "plt.grid()\n",
    "plt.xlabel('Time to Expiry')\n",
    "plt.ylabel('Theta')\n",
    "plt.title('Theta')\n",
    "plt.legend(['Theta for Put'])"
   ]
  },
  {
   "cell_type": "code",
   "execution_count": null,
   "metadata": {},
   "outputs": [],
   "source": []
  },
  {
   "cell_type": "code",
   "execution_count": null,
   "metadata": {},
   "outputs": [],
   "source": []
  }
 ],
 "metadata": {
  "kernelspec": {
   "display_name": "Python 3",
   "language": "python",
   "name": "python3"
  },
  "language_info": {
   "codemirror_mode": {
    "name": "ipython",
    "version": 3
   },
   "file_extension": ".py",
   "mimetype": "text/x-python",
   "name": "python",
   "nbconvert_exporter": "python",
   "pygments_lexer": "ipython3",
   "version": "3.8.5"
  }
 },
 "nbformat": 4,
 "nbformat_minor": 4
}
