{
 "cells": [
  {
   "cell_type": "code",
   "execution_count": 206,
   "metadata": {},
   "outputs": [],
   "source": [
    "import numpy as np\n",
    "import pandas as pd\n",
    "import matplotlib.pyplot as plt\n",
    "import scipy.stats as si\n",
    "import yfinance as yf\n",
    "import os"
   ]
  },
  {
   "cell_type": "markdown",
   "metadata": {},
   "source": [
    "# Stock data: NETFLIX "
   ]
  },
  {
   "cell_type": "code",
   "execution_count": 207,
   "metadata": {
    "scrolled": true
   },
   "outputs": [
    {
     "name": "stdout",
     "output_type": "stream",
     "text": [
      "[*********************100%***********************]  1 of 1 completed\n"
     ]
    }
   ],
   "source": [
    "data = yf.download(\"NFLX\", start=\"2020-03-01\", end=\"2021-03-01\")"
   ]
  },
  {
   "cell_type": "code",
   "execution_count": 8,
   "metadata": {},
   "outputs": [
    {
     "data": {
      "text/html": [
       "<div>\n",
       "<style scoped>\n",
       "    .dataframe tbody tr th:only-of-type {\n",
       "        vertical-align: middle;\n",
       "    }\n",
       "\n",
       "    .dataframe tbody tr th {\n",
       "        vertical-align: top;\n",
       "    }\n",
       "\n",
       "    .dataframe thead th {\n",
       "        text-align: right;\n",
       "    }\n",
       "</style>\n",
       "<table border=\"1\" class=\"dataframe\">\n",
       "  <thead>\n",
       "    <tr style=\"text-align: right;\">\n",
       "      <th></th>\n",
       "      <th>Open</th>\n",
       "      <th>High</th>\n",
       "      <th>Low</th>\n",
       "      <th>Close</th>\n",
       "      <th>Adj Close</th>\n",
       "      <th>Volume</th>\n",
       "    </tr>\n",
       "    <tr>\n",
       "      <th>Date</th>\n",
       "      <th></th>\n",
       "      <th></th>\n",
       "      <th></th>\n",
       "      <th></th>\n",
       "      <th></th>\n",
       "      <th></th>\n",
       "    </tr>\n",
       "  </thead>\n",
       "  <tbody>\n",
       "    <tr>\n",
       "      <th>2020-03-02</th>\n",
       "      <td>373.109985</td>\n",
       "      <td>381.359985</td>\n",
       "      <td>364.500000</td>\n",
       "      <td>381.049988</td>\n",
       "      <td>381.049988</td>\n",
       "      <td>6997900</td>\n",
       "    </tr>\n",
       "    <tr>\n",
       "      <th>2020-03-03</th>\n",
       "      <td>381.029999</td>\n",
       "      <td>393.519989</td>\n",
       "      <td>367.399994</td>\n",
       "      <td>368.769989</td>\n",
       "      <td>368.769989</td>\n",
       "      <td>8364600</td>\n",
       "    </tr>\n",
       "    <tr>\n",
       "      <th>2020-03-04</th>\n",
       "      <td>377.769989</td>\n",
       "      <td>384.010010</td>\n",
       "      <td>370.510010</td>\n",
       "      <td>383.790009</td>\n",
       "      <td>383.790009</td>\n",
       "      <td>5487300</td>\n",
       "    </tr>\n",
       "    <tr>\n",
       "      <th>2020-03-05</th>\n",
       "      <td>381.000000</td>\n",
       "      <td>391.399994</td>\n",
       "      <td>368.640015</td>\n",
       "      <td>372.779999</td>\n",
       "      <td>372.779999</td>\n",
       "      <td>8747000</td>\n",
       "    </tr>\n",
       "    <tr>\n",
       "      <th>2020-03-06</th>\n",
       "      <td>367.700012</td>\n",
       "      <td>371.309998</td>\n",
       "      <td>356.850006</td>\n",
       "      <td>368.970001</td>\n",
       "      <td>368.970001</td>\n",
       "      <td>8147200</td>\n",
       "    </tr>\n",
       "    <tr>\n",
       "      <th>2020-03-09</th>\n",
       "      <td>343.859985</td>\n",
       "      <td>357.470001</td>\n",
       "      <td>341.720001</td>\n",
       "      <td>346.489990</td>\n",
       "      <td>346.489990</td>\n",
       "      <td>7405500</td>\n",
       "    </tr>\n",
       "    <tr>\n",
       "      <th>2020-03-10</th>\n",
       "      <td>356.429993</td>\n",
       "      <td>364.540009</td>\n",
       "      <td>347.850006</td>\n",
       "      <td>364.130005</td>\n",
       "      <td>364.130005</td>\n",
       "      <td>7604400</td>\n",
       "    </tr>\n",
       "    <tr>\n",
       "      <th>2020-03-11</th>\n",
       "      <td>358.920013</td>\n",
       "      <td>362.980011</td>\n",
       "      <td>344.790009</td>\n",
       "      <td>349.920013</td>\n",
       "      <td>349.920013</td>\n",
       "      <td>6036000</td>\n",
       "    </tr>\n",
       "    <tr>\n",
       "      <th>2020-03-12</th>\n",
       "      <td>326.500000</td>\n",
       "      <td>335.720001</td>\n",
       "      <td>307.320007</td>\n",
       "      <td>315.250000</td>\n",
       "      <td>315.250000</td>\n",
       "      <td>12071600</td>\n",
       "    </tr>\n",
       "    <tr>\n",
       "      <th>2020-03-13</th>\n",
       "      <td>330.510010</td>\n",
       "      <td>336.420013</td>\n",
       "      <td>307.390015</td>\n",
       "      <td>336.299988</td>\n",
       "      <td>336.299988</td>\n",
       "      <td>9458200</td>\n",
       "    </tr>\n",
       "  </tbody>\n",
       "</table>\n",
       "</div>"
      ],
      "text/plain": [
       "                  Open        High         Low       Close   Adj Close  \\\n",
       "Date                                                                     \n",
       "2020-03-02  373.109985  381.359985  364.500000  381.049988  381.049988   \n",
       "2020-03-03  381.029999  393.519989  367.399994  368.769989  368.769989   \n",
       "2020-03-04  377.769989  384.010010  370.510010  383.790009  383.790009   \n",
       "2020-03-05  381.000000  391.399994  368.640015  372.779999  372.779999   \n",
       "2020-03-06  367.700012  371.309998  356.850006  368.970001  368.970001   \n",
       "2020-03-09  343.859985  357.470001  341.720001  346.489990  346.489990   \n",
       "2020-03-10  356.429993  364.540009  347.850006  364.130005  364.130005   \n",
       "2020-03-11  358.920013  362.980011  344.790009  349.920013  349.920013   \n",
       "2020-03-12  326.500000  335.720001  307.320007  315.250000  315.250000   \n",
       "2020-03-13  330.510010  336.420013  307.390015  336.299988  336.299988   \n",
       "\n",
       "              Volume  \n",
       "Date                  \n",
       "2020-03-02   6997900  \n",
       "2020-03-03   8364600  \n",
       "2020-03-04   5487300  \n",
       "2020-03-05   8747000  \n",
       "2020-03-06   8147200  \n",
       "2020-03-09   7405500  \n",
       "2020-03-10   7604400  \n",
       "2020-03-11   6036000  \n",
       "2020-03-12  12071600  \n",
       "2020-03-13   9458200  "
      ]
     },
     "execution_count": 8,
     "metadata": {},
     "output_type": "execute_result"
    }
   ],
   "source": [
    "data.head(10)"
   ]
  },
  {
   "cell_type": "code",
   "execution_count": 9,
   "metadata": {
    "scrolled": false
   },
   "outputs": [
    {
     "data": {
      "text/html": [
       "<div>\n",
       "<style scoped>\n",
       "    .dataframe tbody tr th:only-of-type {\n",
       "        vertical-align: middle;\n",
       "    }\n",
       "\n",
       "    .dataframe tbody tr th {\n",
       "        vertical-align: top;\n",
       "    }\n",
       "\n",
       "    .dataframe thead th {\n",
       "        text-align: right;\n",
       "    }\n",
       "</style>\n",
       "<table border=\"1\" class=\"dataframe\">\n",
       "  <thead>\n",
       "    <tr style=\"text-align: right;\">\n",
       "      <th></th>\n",
       "      <th>Open</th>\n",
       "      <th>High</th>\n",
       "      <th>Low</th>\n",
       "      <th>Close</th>\n",
       "      <th>Adj Close</th>\n",
       "      <th>Volume</th>\n",
       "    </tr>\n",
       "    <tr>\n",
       "      <th>Date</th>\n",
       "      <th></th>\n",
       "      <th></th>\n",
       "      <th></th>\n",
       "      <th></th>\n",
       "      <th></th>\n",
       "      <th></th>\n",
       "    </tr>\n",
       "  </thead>\n",
       "  <tbody>\n",
       "    <tr>\n",
       "      <th>2021-02-12</th>\n",
       "      <td>556.940002</td>\n",
       "      <td>561.250000</td>\n",
       "      <td>550.849976</td>\n",
       "      <td>556.520020</td>\n",
       "      <td>556.520020</td>\n",
       "      <td>2195900</td>\n",
       "    </tr>\n",
       "    <tr>\n",
       "      <th>2021-02-16</th>\n",
       "      <td>557.289978</td>\n",
       "      <td>563.630005</td>\n",
       "      <td>552.729980</td>\n",
       "      <td>557.280029</td>\n",
       "      <td>557.280029</td>\n",
       "      <td>2624100</td>\n",
       "    </tr>\n",
       "    <tr>\n",
       "      <th>2021-02-17</th>\n",
       "      <td>550.989990</td>\n",
       "      <td>555.250000</td>\n",
       "      <td>543.030029</td>\n",
       "      <td>551.340027</td>\n",
       "      <td>551.340027</td>\n",
       "      <td>2069600</td>\n",
       "    </tr>\n",
       "    <tr>\n",
       "      <th>2021-02-18</th>\n",
       "      <td>549.000000</td>\n",
       "      <td>550.000000</td>\n",
       "      <td>538.229980</td>\n",
       "      <td>548.219971</td>\n",
       "      <td>548.219971</td>\n",
       "      <td>2456200</td>\n",
       "    </tr>\n",
       "    <tr>\n",
       "      <th>2021-02-19</th>\n",
       "      <td>548.000000</td>\n",
       "      <td>548.989990</td>\n",
       "      <td>538.809998</td>\n",
       "      <td>540.219971</td>\n",
       "      <td>540.219971</td>\n",
       "      <td>2841500</td>\n",
       "    </tr>\n",
       "    <tr>\n",
       "      <th>2021-02-22</th>\n",
       "      <td>534.989990</td>\n",
       "      <td>541.789978</td>\n",
       "      <td>530.789978</td>\n",
       "      <td>533.780029</td>\n",
       "      <td>533.780029</td>\n",
       "      <td>3078600</td>\n",
       "    </tr>\n",
       "    <tr>\n",
       "      <th>2021-02-23</th>\n",
       "      <td>525.000000</td>\n",
       "      <td>548.539978</td>\n",
       "      <td>518.280029</td>\n",
       "      <td>546.150024</td>\n",
       "      <td>546.150024</td>\n",
       "      <td>4136500</td>\n",
       "    </tr>\n",
       "    <tr>\n",
       "      <th>2021-02-24</th>\n",
       "      <td>539.799988</td>\n",
       "      <td>556.849976</td>\n",
       "      <td>539.070007</td>\n",
       "      <td>553.409973</td>\n",
       "      <td>553.409973</td>\n",
       "      <td>3245000</td>\n",
       "    </tr>\n",
       "    <tr>\n",
       "      <th>2021-02-25</th>\n",
       "      <td>550.270020</td>\n",
       "      <td>556.479980</td>\n",
       "      <td>535.750000</td>\n",
       "      <td>546.700012</td>\n",
       "      <td>546.700012</td>\n",
       "      <td>4252900</td>\n",
       "    </tr>\n",
       "    <tr>\n",
       "      <th>2021-02-26</th>\n",
       "      <td>546.510010</td>\n",
       "      <td>553.090027</td>\n",
       "      <td>538.000000</td>\n",
       "      <td>538.849976</td>\n",
       "      <td>538.849976</td>\n",
       "      <td>3754600</td>\n",
       "    </tr>\n",
       "  </tbody>\n",
       "</table>\n",
       "</div>"
      ],
      "text/plain": [
       "                  Open        High         Low       Close   Adj Close  \\\n",
       "Date                                                                     \n",
       "2021-02-12  556.940002  561.250000  550.849976  556.520020  556.520020   \n",
       "2021-02-16  557.289978  563.630005  552.729980  557.280029  557.280029   \n",
       "2021-02-17  550.989990  555.250000  543.030029  551.340027  551.340027   \n",
       "2021-02-18  549.000000  550.000000  538.229980  548.219971  548.219971   \n",
       "2021-02-19  548.000000  548.989990  538.809998  540.219971  540.219971   \n",
       "2021-02-22  534.989990  541.789978  530.789978  533.780029  533.780029   \n",
       "2021-02-23  525.000000  548.539978  518.280029  546.150024  546.150024   \n",
       "2021-02-24  539.799988  556.849976  539.070007  553.409973  553.409973   \n",
       "2021-02-25  550.270020  556.479980  535.750000  546.700012  546.700012   \n",
       "2021-02-26  546.510010  553.090027  538.000000  538.849976  538.849976   \n",
       "\n",
       "             Volume  \n",
       "Date                 \n",
       "2021-02-12  2195900  \n",
       "2021-02-16  2624100  \n",
       "2021-02-17  2069600  \n",
       "2021-02-18  2456200  \n",
       "2021-02-19  2841500  \n",
       "2021-02-22  3078600  \n",
       "2021-02-23  4136500  \n",
       "2021-02-24  3245000  \n",
       "2021-02-25  4252900  \n",
       "2021-02-26  3754600  "
      ]
     },
     "execution_count": 9,
     "metadata": {},
     "output_type": "execute_result"
    }
   ],
   "source": [
    "data.tail(10)"
   ]
  },
  {
   "cell_type": "markdown",
   "metadata": {},
   "source": [
    "# Summary Statistics"
   ]
  },
  {
   "cell_type": "code",
   "execution_count": 15,
   "metadata": {},
   "outputs": [
    {
     "data": {
      "text/html": [
       "<div>\n",
       "<style scoped>\n",
       "    .dataframe tbody tr th:only-of-type {\n",
       "        vertical-align: middle;\n",
       "    }\n",
       "\n",
       "    .dataframe tbody tr th {\n",
       "        vertical-align: top;\n",
       "    }\n",
       "\n",
       "    .dataframe thead th {\n",
       "        text-align: right;\n",
       "    }\n",
       "</style>\n",
       "<table border=\"1\" class=\"dataframe\">\n",
       "  <thead>\n",
       "    <tr style=\"text-align: right;\">\n",
       "      <th></th>\n",
       "      <th>Open</th>\n",
       "      <th>High</th>\n",
       "      <th>Low</th>\n",
       "      <th>Close</th>\n",
       "      <th>Adj Close</th>\n",
       "      <th>Volume</th>\n",
       "    </tr>\n",
       "  </thead>\n",
       "  <tbody>\n",
       "    <tr>\n",
       "      <th>count</th>\n",
       "      <td>251.00</td>\n",
       "      <td>251.00</td>\n",
       "      <td>251.00</td>\n",
       "      <td>251.00</td>\n",
       "      <td>251.00</td>\n",
       "      <td>251.00</td>\n",
       "    </tr>\n",
       "    <tr>\n",
       "      <th>mean</th>\n",
       "      <td>474.87</td>\n",
       "      <td>483.26</td>\n",
       "      <td>466.42</td>\n",
       "      <td>475.16</td>\n",
       "      <td>475.16</td>\n",
       "      <td>6662995.22</td>\n",
       "    </tr>\n",
       "    <tr>\n",
       "      <th>std</th>\n",
       "      <td>59.62</td>\n",
       "      <td>58.90</td>\n",
       "      <td>59.24</td>\n",
       "      <td>59.05</td>\n",
       "      <td>59.05</td>\n",
       "      <td>4173867.37</td>\n",
       "    </tr>\n",
       "    <tr>\n",
       "      <th>min</th>\n",
       "      <td>302.40</td>\n",
       "      <td>322.90</td>\n",
       "      <td>290.25</td>\n",
       "      <td>298.84</td>\n",
       "      <td>298.84</td>\n",
       "      <td>1144000.00</td>\n",
       "    </tr>\n",
       "    <tr>\n",
       "      <th>25%</th>\n",
       "      <td>436.16</td>\n",
       "      <td>444.33</td>\n",
       "      <td>430.40</td>\n",
       "      <td>435.84</td>\n",
       "      <td>435.84</td>\n",
       "      <td>4156950.00</td>\n",
       "    </tr>\n",
       "    <tr>\n",
       "      <th>50%</th>\n",
       "      <td>488.50</td>\n",
       "      <td>494.92</td>\n",
       "      <td>481.27</td>\n",
       "      <td>488.24</td>\n",
       "      <td>488.24</td>\n",
       "      <td>5602500.00</td>\n",
       "    </tr>\n",
       "    <tr>\n",
       "      <th>75%</th>\n",
       "      <td>516.76</td>\n",
       "      <td>525.10</td>\n",
       "      <td>504.43</td>\n",
       "      <td>519.45</td>\n",
       "      <td>519.45</td>\n",
       "      <td>7823450.00</td>\n",
       "    </tr>\n",
       "    <tr>\n",
       "      <th>max</th>\n",
       "      <td>582.45</td>\n",
       "      <td>593.29</td>\n",
       "      <td>570.40</td>\n",
       "      <td>586.34</td>\n",
       "      <td>586.34</td>\n",
       "      <td>32637500.00</td>\n",
       "    </tr>\n",
       "  </tbody>\n",
       "</table>\n",
       "</div>"
      ],
      "text/plain": [
       "         Open    High     Low   Close  Adj Close       Volume\n",
       "count  251.00  251.00  251.00  251.00     251.00       251.00\n",
       "mean   474.87  483.26  466.42  475.16     475.16   6662995.22\n",
       "std     59.62   58.90   59.24   59.05      59.05   4173867.37\n",
       "min    302.40  322.90  290.25  298.84     298.84   1144000.00\n",
       "25%    436.16  444.33  430.40  435.84     435.84   4156950.00\n",
       "50%    488.50  494.92  481.27  488.24     488.24   5602500.00\n",
       "75%    516.76  525.10  504.43  519.45     519.45   7823450.00\n",
       "max    582.45  593.29  570.40  586.34     586.34  32637500.00"
      ]
     },
     "execution_count": 15,
     "metadata": {},
     "output_type": "execute_result"
    }
   ],
   "source": [
    "data.describe().round(2)"
   ]
  },
  {
   "cell_type": "markdown",
   "metadata": {},
   "source": [
    "# ADJ Price movement diagram"
   ]
  },
  {
   "cell_type": "code",
   "execution_count": 13,
   "metadata": {},
   "outputs": [],
   "source": [
    "ADJ =  data['Adj Close']"
   ]
  },
  {
   "cell_type": "code",
   "execution_count": 10,
   "metadata": {
    "scrolled": false
   },
   "outputs": [
    {
     "data": {
      "text/plain": [
       "Text(0.5, 1.0, 'Adjusted Close Price')"
      ]
     },
     "execution_count": 10,
     "metadata": {},
     "output_type": "execute_result"
    },
    {
     "data": {
      "image/png": "[encoded data removed]",
      "text/plain": [
       "<Figure size 720x864 with 1 Axes>"
      ]
     },
     "metadata": {
      "needs_background": "light"
     },
     "output_type": "display_data"
    }
   ],
   "source": [
    "ADJ.plot(figsize=(10, 12), subplots=True)\n",
    "plt.ylabel('Price ($)')\n",
    "plt.title('Adjusted Close Price')"
   ]
  },
  {
   "cell_type": "markdown",
   "metadata": {},
   "source": [
    "# Close Price movement diagram"
   ]
  },
  {
   "cell_type": "code",
   "execution_count": 12,
   "metadata": {},
   "outputs": [],
   "source": [
    "CLS = data['Close']"
   ]
  },
  {
   "cell_type": "code",
   "execution_count": 14,
   "metadata": {
    "scrolled": false
   },
   "outputs": [
    {
     "data": {
      "text/plain": [
       "Text(0.5, 1.0, 'Close Price')"
      ]
     },
     "execution_count": 14,
     "metadata": {},
     "output_type": "execute_result"
    },
    {
     "data": {
      "image/png": "[encoded data removed]",
      "text/plain": [
       "<Figure size 720x864 with 1 Axes>"
      ]
     },
     "metadata": {
      "needs_background": "light"
     },
     "output_type": "display_data"
    }
   ],
   "source": [
    "CLS.plot(figsize=(10, 12), subplots=True)\n",
    "plt.ylabel('Price ($)')\n",
    "plt.title('Close Price')\n"
   ]
  },
  {
   "cell_type": "markdown",
   "metadata": {},
   "source": [
    "# Annualised volatility (12M)"
   ]
  },
  {
   "cell_type": "code",
   "execution_count": 16,
   "metadata": {},
   "outputs": [],
   "source": [
    "log_return = np.log(data['Adj Close'] / data['Adj Close'].shift(1))"
   ]
  },
  {
   "cell_type": "code",
   "execution_count": 17,
   "metadata": {
    "scrolled": true
   },
   "outputs": [
    {
     "name": "stdout",
     "output_type": "stream",
     "text": [
      "The annualised volatility is 48.53 %\n"
     ]
    }
   ],
   "source": [
    "vol = np.sqrt(252) * log_return.std()\n",
    "print('The annualised volatility is', round(vol*100,2), '%')"
   ]
  },
  {
   "cell_type": "markdown",
   "metadata": {},
   "source": [
    "# Annualised volatility (6M)"
   ]
  },
  {
   "cell_type": "code",
   "execution_count": 18,
   "metadata": {},
   "outputs": [
    {
     "name": "stdout",
     "output_type": "stream",
     "text": [
      "The annualised volatility is 34.31 %\n"
     ]
    }
   ],
   "source": [
    "vol = np.sqrt(126) * log_return.std()\n",
    "print('The annualised volatility is', round(vol*100,2), '%')"
   ]
  },
  {
   "cell_type": "markdown",
   "metadata": {},
   "source": [
    "# BINOMIAL TREE MODEL"
   ]
  },
  {
   "cell_type": "markdown",
   "metadata": {},
   "source": [
    "S0: stock spot price,\n",
    "K: strike price,\n",
    "T: maturity,\n",
    "N number of time steps,\n",
    "sigma: diffusion coefficient or volatility,\n",
    "r: risk free rate"
   ]
  },
  {
   "cell_type": "code",
   "execution_count": 6,
   "metadata": {},
   "outputs": [],
   "source": [
    "dT = float(T) / N                   # delta T\n",
    "u = np.exp(sigma * np.sqrt(dT))     # up factor \n",
    "d = 1.0 / u                         # down factor\n",
    "p = (np.exp(r*dT) - d) / (u - d)    # risk free up probability\n",
    "q = 1.0 - p                         # risk free down probability"
   ]
  },
  {
   "cell_type": "code",
   "execution_count": 22,
   "metadata": {},
   "outputs": [],
   "source": [
    "# PRICE TREE\n",
    "price_tree = np.zeros((N + 1, N + 1))\n",
    "price_tree[0, 0] = S0\n",
    "z = 1\n",
    "for t in range(1, N + 1):\n",
    "    for i in range(z):\n",
    "        price_tree[i, t] = price_tree[i, t-1] * u\n",
    "        price_tree[i+1, t] = price_tree[i, t-1] * d\n",
    "    z += 1             "
   ]
  },
  {
   "cell_type": "code",
   "execution_count": 13,
   "metadata": {},
   "outputs": [],
   "source": [
    "S0 = 535.0\n",
    "K = 580.0\n",
    "N = 3\n",
    "sigma = 0.4853     \n",
    "r = 0.017\n",
    "T = 1.0"
   ]
  },
  {
   "cell_type": "code",
   "execution_count": 14,
   "metadata": {},
   "outputs": [
    {
     "data": {
      "text/plain": [
       "array([[ 535.        ,  708.00760314,  936.96217963, 1239.95578885],\n",
       "       [   0.        ,  404.26825747,  535.        ,  708.00760314],\n",
       "       [   0.        ,    0.        ,  305.48191402,  404.26825747],\n",
       "       [   0.        ,    0.        ,    0.        ,  230.83484312]])"
      ]
     },
     "execution_count": 14,
     "metadata": {},
     "output_type": "execute_result"
    }
   ],
   "source": [
    "price_tree"
   ]
  },
  {
   "cell_type": "code",
   "execution_count": 64,
   "metadata": {},
   "outputs": [
    {
     "data": {
      "text/plain": [
       "array([[1., 0., 0., 0.],\n",
       "       [0., 1., 1., 0.],\n",
       "       [0., 0., 1., 1.],\n",
       "       [0., 0., 0., 1.]])"
      ]
     },
     "execution_count": 64,
     "metadata": {},
     "output_type": "execute_result"
    }
   ],
   "source": [
    "# Binary_option_payoff\n",
    "payoff = np.where((price_tree != 0) & (price_tree < K),1.0,0.0 )\n",
    "payoff"
   ]
  },
  {
   "cell_type": "code",
   "execution_count": 105,
   "metadata": {},
   "outputs": [],
   "source": [
    "# OPTION VALUE AT EARLIER NODES\n",
    "for j in range(N-1, -1, -1):\n",
    "        for i in range(j+1):\n",
    "            Value[i,j] = np.exp(-r*dT) * (p * payoff[i,j + 1] + q * payoff[i + 1,j + 1])"
   ]
  },
  {
   "cell_type": "code",
   "execution_count": 106,
   "metadata": {},
   "outputs": [
    {
     "data": {
      "text/plain": [
       "array([[  0.55642085,   0.55642085,   0.        ,   0.        ],\n",
       "       [  0.        ,   0.99434936,   0.55642085,   0.        ],\n",
       "       [  0.        ,   0.        ,   0.99434936, 175.73174253],\n",
       "       [  0.        ,   0.        ,   0.        , 349.16515688]])"
      ]
     },
     "execution_count": 106,
     "metadata": {},
     "output_type": "execute_result"
    }
   ],
   "source": [
    "Value"
   ]
  },
  {
   "cell_type": "code",
   "execution_count": 107,
   "metadata": {},
   "outputs": [
    {
     "name": "stdout",
     "output_type": "stream",
     "text": [
      "Value of binary put option  0.5564208538707269\n"
     ]
    }
   ],
   "source": [
    "print('Value of binary put option ', str( Value[0,0]))"
   ]
  },
  {
   "cell_type": "markdown",
   "metadata": {},
   "source": [
    "# BLACK-SCHOLES MODEL"
   ]
  },
  {
   "cell_type": "code",
   "execution_count": 111,
   "metadata": {},
   "outputs": [],
   "source": [
    "def put_option_bs(S, K, T, r, vol, payoff):\n",
    "    \n",
    "    #S: spot price\n",
    "    #K: strike price\n",
    "    #T: time to maturity\n",
    "    #r: risk free rate\n",
    "    #vol: volatility of underlying asset\n",
    "    #payoff: fixed cash value\n",
    "    \n",
    "    d1 = (np.log(S / K) + (r + 0.5 * vol ** 2) * T) / (vol * np.sqrt(T))\n",
    "    d2 = (np.log(S / K) + (r - 0.5 * vol ** 2) * T) / (vol * np.sqrt(T))\n",
    "    \n",
    "#CASH OR NOTHING BINARY OPTION VALUE \n",
    "    option_value = payoff * np.exp(-r * T) * si.norm.cdf(-d2, 0.0, 1.0)\n",
    "    \n",
    "    return option_value"
   ]
  },
  {
   "cell_type": "code",
   "execution_count": 112,
   "metadata": {},
   "outputs": [
    {
     "data": {
      "text/plain": [
       "0.6349250329627212"
      ]
     },
     "execution_count": 112,
     "metadata": {},
     "output_type": "execute_result"
    }
   ],
   "source": [
    "put_option_bs(535, 580, 1, 0.017, 0.4853,1.0)"
   ]
  },
  {
   "cell_type": "markdown",
   "metadata": {},
   "source": [
    "# GREEKS OF BINARY PUT OPTION"
   ]
  },
  {
   "cell_type": "markdown",
   "metadata": {},
   "source": [
    "    #S: spot price\n",
    "    #K: strike price\n",
    "    #T: time to maturity\n",
    "    #r: risk free rate\n",
    "    #q: continuous dividend yield\n",
    "    #vol: volatility of underlying asset"
   ]
  },
  {
   "cell_type": "markdown",
   "metadata": {},
   "source": [
    "# Delta"
   ]
  },
  {
   "cell_type": "markdown",
   "metadata": {},
   "source": [
    "Delta, ∆, measures the rate of change of the theoretical option value with respect to changes in the underlying asset's price. Delta is the first derivative of the value V of the option with respect to the underlying instrument's price S."
   ]
  },
  {
   "cell_type": "code",
   "execution_count": 161,
   "metadata": {},
   "outputs": [],
   "source": [
    "def delta(S, K, T, r, q, vol):\n",
    "    \n",
    "    d1 = (np.log(S / K) + (r - q + 0.5 * vol ** 2) * T) / (vol * np.sqrt(T))\n",
    "    d2 = (np.log(S / K) + (r - q - 0.5 * vol ** 2) * T) / (vol * np.sqrt(T))\n",
    "    \n",
    "    delta = (- np.exp(-q * T))*si.norm.pdf(d2, 0.0, 1.0) / (S * vol * np.sqrt(T))\n",
    "    return delta"
   ]
  },
  {
   "cell_type": "code",
   "execution_count": 167,
   "metadata": {},
   "outputs": [
    {
     "data": {
      "text/plain": [
       "-0.0014928603950462404"
      ]
     },
     "execution_count": 167,
     "metadata": {},
     "output_type": "execute_result"
    }
   ],
   "source": [
    "delta(535, 580, 1, 0.017, 0.01, 0.4583)"
   ]
  },
  {
   "cell_type": "code",
   "execution_count": 169,
   "metadata": {},
   "outputs": [],
   "source": [
    "S = np.linspace(500,700,11)\n",
    "Delta_Put = np.zeros((len(S),1))\n",
    "for i in range(len(S)):\n",
    "    \n",
    "    Delta_Put [i] = delta(S[i], 580, 1, 0.017, 0.01, 0.4853)"
   ]
  },
  {
   "cell_type": "code",
   "execution_count": 170,
   "metadata": {},
   "outputs": [
    {
     "data": {
      "text/plain": [
       "<matplotlib.legend.Legend at 0x7fea98c1bf40>"
      ]
     },
     "execution_count": 170,
     "metadata": {},
     "output_type": "execute_result"
    },
    {
     "data": {
      "image/png": "[encoded data removed]",
      "text/plain": [
       "<Figure size 432x288 with 1 Axes>"
      ]
     },
     "metadata": {
      "needs_background": "light"
     },
     "output_type": "display_data"
    }
   ],
   "source": [
    "fig = plt.figure()\n",
    "plt.plot(S, Delta_Put, '-')\n",
    "plt.grid()\n",
    "plt.xlabel('Stock Price')\n",
    "plt.ylabel('Delta')\n",
    "plt.title('Delta')\n",
    "plt.legend(['Delta for Put'])"
   ]
  },
  {
   "cell_type": "markdown",
   "metadata": {},
   "source": [
    "# Gamma"
   ]
  },
  {
   "cell_type": "markdown",
   "metadata": {},
   "source": [
    "Gamma, Γ, measures the rate of change in the delta with respect to changes in the underlying price. Gamma is the second derivative of the value function with respect to the underlying price."
   ]
  },
  {
   "cell_type": "code",
   "execution_count": 174,
   "metadata": {},
   "outputs": [],
   "source": [
    "def gamma(S, K, T, r, q, vol):\n",
    "    \n",
    "    d1 = (np.log(S / K) + (r - q + 0.5 * vol ** 2) * T) / (vol * np.sqrt(T))\n",
    "    d2 = (np.log(S / K) + (r - q - 0.5 * vol ** 2) * T) / (vol * np.sqrt(T))\n",
    "    \n",
    "    gamma = np.exp(-q * T) * si.norm.pdf(d2, 0.0, 1.0) * d1 / ((S**2) * (vol**2) * np.sqrt(T))\n",
    "    return gamma"
   ]
  },
  {
   "cell_type": "code",
   "execution_count": 173,
   "metadata": {},
   "outputs": [
    {
     "data": {
      "text/plain": [
       "4.152676636363529e-07"
      ]
     },
     "execution_count": 173,
     "metadata": {},
     "output_type": "execute_result"
    }
   ],
   "source": [
    "gamma(535, 580, 1, 0.017, 0.01, 0.4583)"
   ]
  },
  {
   "cell_type": "code",
   "execution_count": 176,
   "metadata": {},
   "outputs": [],
   "source": [
    "S = np.linspace(500,700,11)\n",
    "Gamma_Put = np.zeros((len(S),1))\n",
    "for i in range(len(S)):\n",
    "    \n",
    "    Gamma_Put [i] = gamma(S[i], 580, 1, 0.017, 0.01, 0.4853)"
   ]
  },
  {
   "cell_type": "code",
   "execution_count": 177,
   "metadata": {},
   "outputs": [
    {
     "data": {
      "text/plain": [
       "<matplotlib.legend.Legend at 0x7feaa0039640>"
      ]
     },
     "execution_count": 177,
     "metadata": {},
     "output_type": "execute_result"
    },
    {
     "data": {
      "image/png": "[encoded data removed]",
      "text/plain": [
       "<Figure size 432x288 with 1 Axes>"
      ]
     },
     "metadata": {
      "needs_background": "light"
     },
     "output_type": "display_data"
    }
   ],
   "source": [
    "fig = plt.figure()\n",
    "plt.plot(S, Gamma_Put, '-')\n",
    "plt.grid()\n",
    "plt.xlabel('Stock Price')\n",
    "plt.ylabel('Gamma')\n",
    "plt.title('Gamma')\n",
    "plt.legend(['Gamma for Put'])"
   ]
  },
  {
   "cell_type": "markdown",
   "metadata": {},
   "source": [
    "# Vega"
   ]
  },
  {
   "cell_type": "markdown",
   "metadata": {},
   "source": [
    "Vega measures sensitivity to volatility. Vega is the derivative of the option value with respect to the volatility of the underlying asset."
   ]
  },
  {
   "cell_type": "code",
   "execution_count": 178,
   "metadata": {},
   "outputs": [],
   "source": [
    "def vega(S, K, T, r, q, vol):\n",
    "    \n",
    "    d1 = (np.log(S / K) + (r - q + 0.5 * vol ** 2) * T) / (vol * np.sqrt(T))\n",
    "    d2 = (np.log(S / K) + (r - q - 0.5 * vol ** 2) * T) / (vol * np.sqrt(T))\n",
    "    \n",
    "    vega = np.exp(-q * T) * d1 * si.norm.pdf(d2, 0.0, 1.0) / vol\n",
    "    \n",
    "    return vega"
   ]
  },
  {
   "cell_type": "code",
   "execution_count": 179,
   "metadata": {},
   "outputs": [
    {
     "data": {
      "text/plain": [
       "0.0544735320532436"
      ]
     },
     "execution_count": 179,
     "metadata": {},
     "output_type": "execute_result"
    }
   ],
   "source": [
    "vega(535, 580, 1, 0.017,0.01, 0.4583)"
   ]
  },
  {
   "cell_type": "code",
   "execution_count": 180,
   "metadata": {},
   "outputs": [],
   "source": [
    "vol = np.linspace(0.15,0.55,13)\n",
    "Vega = np.zeros((len(vol),1))\n",
    "for i in range(len(vol)):\n",
    "    Vega [i] = vega(535, 580, 1, 0.017, 0.01, vol[i])"
   ]
  },
  {
   "cell_type": "code",
   "execution_count": 181,
   "metadata": {},
   "outputs": [
    {
     "data": {
      "text/plain": [
       "<matplotlib.legend.Legend at 0x7feab3257a60>"
      ]
     },
     "execution_count": 181,
     "metadata": {},
     "output_type": "execute_result"
    },
    {
     "data": {
      "image/png": "[encoded data removed]",
      "text/plain": [
       "<Figure size 432x288 with 1 Axes>"
      ]
     },
     "metadata": {
      "needs_background": "light"
     },
     "output_type": "display_data"
    }
   ],
   "source": [
    "fig = plt.figure()\n",
    "plt.plot(vol, Vega, '-')\n",
    "plt.grid()\n",
    "plt.xlabel('Volatility')\n",
    "plt.ylabel('Vega')\n",
    "plt.title('Vega')\n",
    "plt.legend(['Vega for Put'])"
   ]
  },
  {
   "cell_type": "markdown",
   "metadata": {},
   "source": [
    "# Rho"
   ]
  },
  {
   "cell_type": "markdown",
   "metadata": {},
   "source": [
    "Rho, 𝜌, measures sensitivity to the interest rate: it is the derivative of the option value with respect to the risk free interest rate (for the relevant outstanding term)."
   ]
  },
  {
   "cell_type": "code",
   "execution_count": 182,
   "metadata": {},
   "outputs": [],
   "source": [
    "def rho(S, K, T, r, q, vol):\n",
    "    \n",
    "    d1 = (np.log(S / K) + (r - q + 0.5 * vol ** 2) * T) / (vol * np.sqrt(T))\n",
    "    d2 = (np.log(S / K) + (r - q - 0.5 * vol ** 2) * T) / (vol * np.sqrt(T))\n",
    "    \n",
    "    rho = np.exp(-q * T) * ((-np.sqrt(T) * si.norm.pdf(d2, 0.0, 1.0)) / vol - (T * si.norm.cdf(-d2, 0.0, 1.0)))\n",
    "    return rho"
   ]
  },
  {
   "cell_type": "code",
   "execution_count": 183,
   "metadata": {},
   "outputs": [
    {
     "data": {
      "text/plain": [
       "-1.443962183018881"
      ]
     },
     "execution_count": 183,
     "metadata": {},
     "output_type": "execute_result"
    }
   ],
   "source": [
    "rho(535, 580, 1, 0.017, 0.01, 0.4583)"
   ]
  },
  {
   "cell_type": "code",
   "execution_count": 184,
   "metadata": {},
   "outputs": [],
   "source": [
    "r = np.linspace(0,0.1,11)\n",
    "Rho_Put = np.zeros((len(r),1))\n",
    "for i in range(len(r)):\n",
    "    \n",
    "    Rho_Put [i] = rho(535, 580, 1, r[i], 0.01, 0.4583)"
   ]
  },
  {
   "cell_type": "code",
   "execution_count": 185,
   "metadata": {},
   "outputs": [
    {
     "data": {
      "text/plain": [
       "<matplotlib.legend.Legend at 0x7feab3344580>"
      ]
     },
     "execution_count": 185,
     "metadata": {},
     "output_type": "execute_result"
    },
    {
     "data": {
      "image/png": "[encoded data removed]",
      "text/plain": [
       "<Figure size 432x288 with 1 Axes>"
      ]
     },
     "metadata": {
      "needs_background": "light"
     },
     "output_type": "display_data"
    }
   ],
   "source": [
    "fig = plt.figure()\n",
    "plt.plot(r, Rho_Put, '-')\n",
    "plt.grid()\n",
    "plt.xlabel('Interest Rate')\n",
    "plt.ylabel('Rho')\n",
    "plt.title('Rho')\n",
    "plt.legend(['Rho for Put'])"
   ]
  },
  {
   "cell_type": "markdown",
   "metadata": {},
   "source": [
    "# Theta"
   ]
  },
  {
   "cell_type": "markdown",
   "metadata": {},
   "source": [
    "Theta, 𝜃, measures the sensitivity of the value of the derivative to the passage of time (see Option time value): the \"time decay\"."
   ]
  },
  {
   "cell_type": "code",
   "execution_count": 202,
   "metadata": {},
   "outputs": [],
   "source": [
    "def theta(S, K, T, r, q, vol):\n",
    "    \n",
    "    d2 = (np.log(S / K) + (r - q - 0.5 * vol ** 2) * T) / (vol * np.sqrt(T))\n",
    "    \n",
    "    theta = np.exp(-q * T) * ((-si.norm.pdf(d2, 0.0, 1.0) / (2 * T * vol * np.sqrt(T)) * (np.log(S / K) - (r - q - 0.5 * vol ** 2) * T)) + q * si.norm.cdf(-d2, 0.0, 1.0))\n",
    "    return theta"
   ]
  },
  {
   "cell_type": "code",
   "execution_count": 203,
   "metadata": {},
   "outputs": [
    {
     "data": {
      "text/plain": [
       "-0.00043902897386117367"
      ]
     },
     "execution_count": 203,
     "metadata": {},
     "output_type": "execute_result"
    }
   ],
   "source": [
    "theta(535, 580, 1, 0.017, 0.01, 0.4583)"
   ]
  },
  {
   "cell_type": "code",
   "execution_count": 204,
   "metadata": {},
   "outputs": [],
   "source": [
    "T = np.linspace(0.25,3,12)\n",
    "Theta_Put = np.zeros((len(T),1))\n",
    "for i in range(len(r)):\n",
    "    Theta_Put [i] = theta(535, 580, T[i], 0.017, 0.01, 0.4583)"
   ]
  },
  {
   "cell_type": "code",
   "execution_count": 205,
   "metadata": {},
   "outputs": [
    {
     "data": {
      "text/plain": [
       "<matplotlib.legend.Legend at 0x7fea98c64df0>"
      ]
     },
     "execution_count": 205,
     "metadata": {},
     "output_type": "execute_result"
    },
    {
     "data": {
      "image/png": "[encoded data removed]",
      "text/plain": [
       "<Figure size 432x288 with 1 Axes>"
      ]
     },
     "metadata": {
      "needs_background": "light"
     },
     "output_type": "display_data"
    }
   ],
   "source": [
    "fig = plt.figure()\n",
    "plt.plot(T, Theta_Put, '-')\n",
    "plt.grid()\n",
    "plt.xlabel('Time to Expiry')\n",
    "plt.ylabel('Theta')\n",
    "plt.title('Theta')\n",
    "plt.legend(['Theta for Put'])"
   ]
  },
  {
   "cell_type": "code",
   "execution_count": null,
   "metadata": {},
   "outputs": [],
   "source": []
  }
 ],
 "metadata": {
  "kernelspec": {
   "display_name": "Python 3",
   "language": "python",
   "name": "python3"
  },
  "language_info": {
   "codemirror_mode": {
    "name": "ipython",
    "version": 3
   },
   "file_extension": ".py",
   "mimetype": "text/x-python",
   "name": "python",
   "nbconvert_exporter": "python",
   "pygments_lexer": "ipython3",
   "version": "3.8.5"
  }
 },
 "nbformat": 4,
 "nbformat_minor": 4
}
